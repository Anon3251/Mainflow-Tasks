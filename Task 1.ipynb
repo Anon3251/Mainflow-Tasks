{
 "cells": [
  {
   "cell_type": "code",
   "execution_count": 1,
   "id": "237d5d05",
   "metadata": {},
   "outputs": [
    {
     "name": "stdout",
     "output_type": "stream",
     "text": [
      "List after adding an element: [100, 200, 300, 400, 500, 600, 900]\n",
      "List after modifying an element: [100, 200, 300, 1000, 500, 600, 900]\n",
      "List after removing an element: [100, 200, 300, 1000, 600, 900]\n",
      "Updated list: [100, 200, 300, 1000, 600, 900]\n"
     ]
    }
   ],
   "source": [
    "# Creating a list\n",
    "my_list = [100, 200, 300, 400, 500, 600]\n",
    "\n",
    "#Adding an element to the list\n",
    "my_list.append(900)\n",
    "print(\"List after adding an element:\", my_list)\n",
    "\n",
    "# Modifying an element in the list\n",
    "my_list[3] = 1000\n",
    "print(\"List after modifying an element:\", my_list)\n",
    "\n",
    "# Removing an element from the list\n",
    "my_list.remove(500)\n",
    "print(\"List after removing an element:\", my_list)\n",
    "\n",
    "print(\"Updated list:\", my_list)"
   ]
  },
  {
   "cell_type": "code",
   "execution_count": 3,
   "id": "5ce763e8",
   "metadata": {},
   "outputs": [
    {
     "name": "stdout",
     "output_type": "stream",
     "text": [
      "Updated Dictionary: {'Name': 'Paul Walker', 'Job': 'Mechanic', 'Gender': 'Male'}\n"
     ]
    }
   ],
   "source": [
    "# Creating a dictionary\n",
    "my_dict = {'Name': 'Paul Walker', 'Age': 23, 'Job': 'Driver'}\n",
    "\n",
    "# Adding a key-value pair\n",
    "my_dict['Gender'] = 'Male'\n",
    "\n",
    "# Removing a key-value pair\n",
    "del my_dict['Age']\n",
    "\n",
    "# Modifying a key value pair\n",
    "my_dict['Job'] = 'Mechanic'\n",
    "\n",
    "print(\"Updated Dictionary:\", my_dict)"
   ]
  },
  {
   "cell_type": "code",
   "execution_count": 4,
   "id": "ba1229b5",
   "metadata": {},
   "outputs": [
    {
     "name": "stdout",
     "output_type": "stream",
     "text": [
      "Updated Set: {96, 33, 42, 87, 56, 10}\n"
     ]
    }
   ],
   "source": [
    "# Creating a set\n",
    "my_set = {10,25,33,56,78,87}\n",
    "\n",
    "# Adding an element to the set\n",
    "my_set.add(42)\n",
    "\n",
    "# Removing an element from the set\n",
    "my_set.remove(25)\n",
    "\n",
    "# Modifying an element in the set\n",
    "my_set.discard(78)\n",
    "my_set.add(96)\n",
    "\n",
    "print(\"Updated Set:\", my_set)"
   ]
  },
  {
   "cell_type": "code",
   "execution_count": null,
   "id": "ad482795",
   "metadata": {},
   "outputs": [],
   "source": []
  }
 ],
 "metadata": {
  "kernelspec": {
   "display_name": "Python 3 (ipykernel)",
   "language": "python",
   "name": "python3"
  },
  "language_info": {
   "codemirror_mode": {
    "name": "ipython",
    "version": 3
   },
   "file_extension": ".py",
   "mimetype": "text/x-python",
   "name": "python",
   "nbconvert_exporter": "python",
   "pygments_lexer": "ipython3",
   "version": "3.11.5"
  }
 },
 "nbformat": 4,
 "nbformat_minor": 5
}
